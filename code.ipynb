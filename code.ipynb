{
 "cells": [
  {
   "cell_type": "markdown",
   "metadata": {},
   "source": [
    "## GitHub Data Analysis\n"
   ]
  },
  {
   "cell_type": "markdown",
   "metadata": {},
   "source": [
    "## Introduction\n",
    "Every software engineer uses GitHub. Being a open source distributed version control tool, GitHub has thoundsands of new repositorys in every hour. Thus, GitHub could also be used as a huge dynamic data source to analyze technology status quo and trend.\n",
    "\n",
    "In this project, we will be looking into serveral things like who is the most popular person in certain field, what is the current hottest project and how much does different programming languages being used.\n"
   ]
  },
  {
   "cell_type": "markdown",
   "metadata": {},
   "source": [
    "### GitHub API\n",
    "\n",
    "We will use GitHub API from [here](https://developer.github.com/v3/).\n",
    "All the API calls are using HTTPS requests and it will return in JSON format.\n",
    "\n",
    "Steps to use GitHub API:\n",
    "1. Install `pygithub` by \n",
    "`-pip install pygithub`\n",
    "2. Generate a GitHub Personal access token required for `GitHub API`\n",
    "3. Test You API in local terminal using the following command. It is expected to return a list of dictionary contains your account info\n",
    "##### - curl https://api.github.com/user\\?access_token\\={YOUR_TOKEN}\n",
    "\n",
    "\n"
   ]
  },
  {
   "cell_type": "markdown",
   "metadata": {},
   "source": [
    "### NetworkX\n",
    "NetworkX is a Python package for the creation, manipulation, and study of the structure, dynamics, and functions of complex networks. It provides tools to work with large dataset with network strucutres. With NetworkX, we can load and store neyworks in standard data format easily. It can also helps us to generate classic networks, analyze network strucutre, build network models and much more.\n",
    "\n",
    "You can install `NetworkX` by `-pip install networkx`\n"
   ]
  },
  {
   "cell_type": "code",
   "execution_count": 3,
   "metadata": {},
   "outputs": [],
   "source": [
    "import sys\n",
    "from github import Github\n",
    "import networkx as nx\n",
    "from operator import itemgetter\n",
    "\n",
    "# Global Variables\n",
    "ACCESS_TOKEN = '05bb4eb867b152be20dd11f4fa292107c839931c'\n",
    "USER = 'minrk'  # Define the GitHub User Name\n",
    "REPO = 'findspark'  # Define the Repo name\n",
    "client = Github(ACCESS_TOKEN)\n",
    "graph = nx.DiGraph()"
   ]
  },
  {
   "cell_type": "markdown",
   "metadata": {},
   "source": [
    "### Set Up NetworkX Graph\n",
    "\n",
    "\n",
    "After defined the user and repo name that we are going to explore, we can then set up the NetworkX graph.\n",
    "\n",
    "We will add the repo and each user who starred the repo as nodes, and build edges between them. After this, we also add edges between users and their followers. "
   ]
  },
  {
   "cell_type": "code",
   "execution_count": 4,
   "metadata": {},
   "outputs": [],
   "source": [
    "def buildRepoRelations(REPO):\n",
    "    user = client.get_user(USER)\n",
    "    repo = user.get_repo(REPO)  # Get a specific repo\n",
    "    REPOS = user.get_repos()\n",
    "    stargazers = list(repo.get_stargazers())  # The list of users who starred this REPO\n",
    "    graph.add_node(repo.name + '(repo)', type='repo', lang=repo.language, owner=user.login)\n",
    "    for stargazer in stargazers:\n",
    "        graph.add_node(stargazer.login + '(user)', type='user')\n",
    "        graph.add_edge(stargazer.login + '(user)', repo.name + '(repo)', type='gazes')\n",
    "    #\tprint(len(stargazers))#See if it return a correct list\n",
    "    return stargazers\n",
    "\n",
    "\n",
    "def buildUserRelations(stargazers):\n",
    "    for i, stargazer in enumerate(stargazers):\n",
    "        followers = stargazer.get_followers()\n",
    "        try:\n",
    "            for follower in followers:\n",
    "                if follower.login + '(user)' in graph:\n",
    "                    graph.add_edge(follower.login + '(user)', stargazer.login + '(user)', type='follows')\n",
    "        except Exception:  \n",
    "            print(\"Encountered an error when finding follower for user: \", stargazer.login)\n",
    "        #See How many available API calls remaining\n",
    "        print (\"API Calls Remaining\", client.rate_limiting)"
   ]
  },
  {
   "cell_type": "code",
   "execution_count": 5,
   "metadata": {},
   "outputs": [
    {
     "name": "stdout",
     "output_type": "stream",
     "text": [
      "API Calls Remaining (4990, 5000)\n",
      "API Calls Remaining (4965, 5000)\n",
      "API Calls Remaining (4962, 5000)\n",
      "API Calls Remaining (4960, 5000)\n",
      "API Calls Remaining (4957, 5000)\n",
      "API Calls Remaining (4939, 5000)\n",
      "API Calls Remaining (4937, 5000)\n",
      "API Calls Remaining (4936, 5000)\n",
      "API Calls Remaining (4927, 5000)\n",
      "API Calls Remaining (4924, 5000)\n",
      "API Calls Remaining (4923, 5000)\n",
      "API Calls Remaining (4918, 5000)\n",
      "API Calls Remaining (4916, 5000)\n",
      "API Calls Remaining (4915, 5000)\n",
      "API Calls Remaining (4914, 5000)\n",
      "API Calls Remaining (4913, 5000)\n",
      "API Calls Remaining (4904, 5000)\n",
      "API Calls Remaining (4903, 5000)\n",
      "API Calls Remaining (4902, 5000)\n",
      "API Calls Remaining (4900, 5000)\n",
      "API Calls Remaining (4898, 5000)\n",
      "API Calls Remaining (4896, 5000)\n",
      "API Calls Remaining (4895, 5000)\n",
      "API Calls Remaining (4894, 5000)\n",
      "API Calls Remaining (4893, 5000)\n",
      "API Calls Remaining (4892, 5000)\n",
      "API Calls Remaining (4891, 5000)\n",
      "API Calls Remaining (4888, 5000)\n",
      "API Calls Remaining (4887, 5000)\n",
      "API Calls Remaining (4886, 5000)\n",
      "API Calls Remaining (4884, 5000)\n",
      "API Calls Remaining (4883, 5000)\n",
      "API Calls Remaining (4882, 5000)\n",
      "API Calls Remaining (4880, 5000)\n",
      "API Calls Remaining (4879, 5000)\n",
      "API Calls Remaining (4874, 5000)\n",
      "API Calls Remaining (4873, 5000)\n",
      "API Calls Remaining (4872, 5000)\n",
      "API Calls Remaining (4871, 5000)\n",
      "API Calls Remaining (4870, 5000)\n",
      "API Calls Remaining (4869, 5000)\n",
      "API Calls Remaining (4868, 5000)\n",
      "API Calls Remaining (4867, 5000)\n",
      "API Calls Remaining (4866, 5000)\n",
      "API Calls Remaining (4863, 5000)\n",
      "API Calls Remaining (4862, 5000)\n",
      "API Calls Remaining (4861, 5000)\n",
      "API Calls Remaining (4859, 5000)\n",
      "API Calls Remaining (4858, 5000)\n",
      "API Calls Remaining (4857, 5000)\n",
      "API Calls Remaining (4855, 5000)\n",
      "API Calls Remaining (4854, 5000)\n",
      "API Calls Remaining (4850, 5000)\n",
      "API Calls Remaining (4848, 5000)\n",
      "API Calls Remaining (4847, 5000)\n",
      "API Calls Remaining (4846, 5000)\n",
      "API Calls Remaining (4845, 5000)\n",
      "API Calls Remaining (4843, 5000)\n",
      "API Calls Remaining (4842, 5000)\n",
      "API Calls Remaining (4841, 5000)\n",
      "API Calls Remaining (4840, 5000)\n",
      "API Calls Remaining (4839, 5000)\n",
      "API Calls Remaining (4789, 5000)\n",
      "API Calls Remaining (4788, 5000)\n",
      "API Calls Remaining (4787, 5000)\n",
      "API Calls Remaining (4786, 5000)\n",
      "API Calls Remaining (4784, 5000)\n",
      "API Calls Remaining (4783, 5000)\n",
      "API Calls Remaining (4782, 5000)\n",
      "API Calls Remaining (4780, 5000)\n",
      "API Calls Remaining (4779, 5000)\n",
      "API Calls Remaining (4778, 5000)\n",
      "API Calls Remaining (4776, 5000)\n",
      "API Calls Remaining (4772, 5000)\n",
      "API Calls Remaining (4771, 5000)\n",
      "API Calls Remaining (4768, 5000)\n",
      "API Calls Remaining (4767, 5000)\n",
      "API Calls Remaining (4766, 5000)\n",
      "API Calls Remaining (4765, 5000)\n",
      "API Calls Remaining (4763, 5000)\n",
      "API Calls Remaining (4759, 5000)\n",
      "API Calls Remaining (4758, 5000)\n",
      "API Calls Remaining (4757, 5000)\n",
      "API Calls Remaining (4756, 5000)\n",
      "API Calls Remaining (4755, 5000)\n",
      "API Calls Remaining (4754, 5000)\n",
      "API Calls Remaining (4753, 5000)\n",
      "API Calls Remaining (4752, 5000)\n",
      "API Calls Remaining (4751, 5000)\n",
      "API Calls Remaining (4748, 5000)\n",
      "API Calls Remaining (4747, 5000)\n",
      "API Calls Remaining (4746, 5000)\n",
      "API Calls Remaining (4743, 5000)\n",
      "API Calls Remaining (4742, 5000)\n",
      "API Calls Remaining (4741, 5000)\n",
      "API Calls Remaining (4740, 5000)\n",
      "API Calls Remaining (4739, 5000)\n",
      "API Calls Remaining (4738, 5000)\n",
      "API Calls Remaining (4736, 5000)\n",
      "API Calls Remaining (4735, 5000)\n",
      "API Calls Remaining (4734, 5000)\n",
      "API Calls Remaining (4733, 5000)\n",
      "API Calls Remaining (4732, 5000)\n",
      "API Calls Remaining (4731, 5000)\n",
      "API Calls Remaining (4730, 5000)\n",
      "API Calls Remaining (4729, 5000)\n",
      "API Calls Remaining (4727, 5000)\n",
      "API Calls Remaining (4726, 5000)\n",
      "API Calls Remaining (4723, 5000)\n",
      "API Calls Remaining (4722, 5000)\n",
      "API Calls Remaining (4721, 5000)\n",
      "API Calls Remaining (4720, 5000)\n",
      "API Calls Remaining (4719, 5000)\n",
      "API Calls Remaining (4718, 5000)\n",
      "API Calls Remaining (4717, 5000)\n",
      "API Calls Remaining (4716, 5000)\n",
      "API Calls Remaining (4715, 5000)\n",
      "API Calls Remaining (4714, 5000)\n",
      "API Calls Remaining (4713, 5000)\n",
      "API Calls Remaining (4712, 5000)\n",
      "API Calls Remaining (4711, 5000)\n",
      "API Calls Remaining (4710, 5000)\n",
      "API Calls Remaining (4709, 5000)\n",
      "API Calls Remaining (4708, 5000)\n",
      "API Calls Remaining (4707, 5000)\n",
      "API Calls Remaining (4706, 5000)\n",
      "API Calls Remaining (4704, 5000)\n",
      "API Calls Remaining (4702, 5000)\n",
      "API Calls Remaining (4701, 5000)\n",
      "API Calls Remaining (4694, 5000)\n",
      "API Calls Remaining (4693, 5000)\n",
      "API Calls Remaining (4692, 5000)\n",
      "API Calls Remaining (4691, 5000)\n",
      "API Calls Remaining (4690, 5000)\n",
      "API Calls Remaining (4689, 5000)\n",
      "API Calls Remaining (4684, 5000)\n",
      "API Calls Remaining (4683, 5000)\n",
      "API Calls Remaining (4682, 5000)\n",
      "API Calls Remaining (4681, 5000)\n",
      "API Calls Remaining (4680, 5000)\n",
      "API Calls Remaining (4667, 5000)\n",
      "API Calls Remaining (4666, 5000)\n",
      "API Calls Remaining (4665, 5000)\n",
      "API Calls Remaining (4664, 5000)\n",
      "API Calls Remaining (4663, 5000)\n",
      "API Calls Remaining (4661, 5000)\n",
      "API Calls Remaining (4660, 5000)\n",
      "API Calls Remaining (4659, 5000)\n",
      "API Calls Remaining (4658, 5000)\n",
      "API Calls Remaining (4657, 5000)\n",
      "API Calls Remaining (4656, 5000)\n",
      "API Calls Remaining (4655, 5000)\n",
      "API Calls Remaining (4654, 5000)\n",
      "API Calls Remaining (4653, 5000)\n",
      "API Calls Remaining (4652, 5000)\n",
      "API Calls Remaining (4649, 5000)\n",
      "API Calls Remaining (4648, 5000)\n",
      "API Calls Remaining (4647, 5000)\n",
      "API Calls Remaining (4646, 5000)\n",
      "API Calls Remaining (4638, 5000)\n",
      "API Calls Remaining (4637, 5000)\n",
      "API Calls Remaining (4635, 5000)\n",
      "API Calls Remaining (4634, 5000)\n",
      "API Calls Remaining (4633, 5000)\n",
      "API Calls Remaining (4632, 5000)\n",
      "API Calls Remaining (4631, 5000)\n",
      "API Calls Remaining (4630, 5000)\n",
      "API Calls Remaining (4629, 5000)\n",
      "API Calls Remaining (4628, 5000)\n",
      "API Calls Remaining (4625, 5000)\n",
      "API Calls Remaining (4624, 5000)\n",
      "API Calls Remaining (4621, 5000)\n",
      "API Calls Remaining (4620, 5000)\n",
      "API Calls Remaining (4619, 5000)\n",
      "API Calls Remaining (4618, 5000)\n",
      "API Calls Remaining (4617, 5000)\n",
      "API Calls Remaining (4616, 5000)\n",
      "API Calls Remaining (4601, 5000)\n",
      "API Calls Remaining (4600, 5000)\n",
      "API Calls Remaining (4590, 5000)\n",
      "API Calls Remaining (4589, 5000)\n",
      "API Calls Remaining (4588, 5000)\n",
      "API Calls Remaining (4587, 5000)\n",
      "API Calls Remaining (4586, 5000)\n",
      "API Calls Remaining (4585, 5000)\n",
      "API Calls Remaining (4584, 5000)\n",
      "API Calls Remaining (4583, 5000)\n",
      "API Calls Remaining (4582, 5000)\n",
      "API Calls Remaining (4581, 5000)\n",
      "API Calls Remaining (4580, 5000)\n",
      "API Calls Remaining (4579, 5000)\n",
      "API Calls Remaining (4578, 5000)\n",
      "API Calls Remaining (4577, 5000)\n",
      "API Calls Remaining (4576, 5000)\n",
      "API Calls Remaining (4575, 5000)\n",
      "API Calls Remaining (4574, 5000)\n",
      "API Calls Remaining (4573, 5000)\n",
      "API Calls Remaining (4572, 5000)\n",
      "API Calls Remaining (4571, 5000)\n",
      "API Calls Remaining (4570, 5000)\n",
      "API Calls Remaining (4569, 5000)\n",
      "API Calls Remaining (4568, 5000)\n"
     ]
    }
   ],
   "source": [
    "stargazers = buildRepoRelations(REPO)\n",
    "buildUserRelations(stargazers)"
   ]
  },
  {
   "cell_type": "markdown",
   "metadata": {},
   "source": [
    "### Find Hottest User\n",
    "In this step, we use the graph initialized above to find the hottest users. The hottest user is defined as the GitHub user followed by most of the people who starred the repo we defined previously. This can also be interpreted as those who starred this repo also follows ... \n"
   ]
  },
  {
   "cell_type": "code",
   "execution_count": 6,
   "metadata": {},
   "outputs": [
    {
     "name": "stdout",
     "output_type": "stream",
     "text": [
      "Number of popular users 32\n",
      "Top popular users: [('minimaxir(user)', 7), ('stared(user)', 6), ('freeman-lab(user)', 5), ('rgbkrk(user)', 4), ('nchammas(user)', 3), ('dclambert(user)', 3), ('esafak(user)', 3), ('dapurv5(user)', 2), ('rholder(user)', 2), ('xiaohan2012(user)', 2)]\n"
     ]
    }
   ],
   "source": [
    "from collections import Counter\n",
    "from operator import itemgetter\n",
    "\n",
    "def getHottestUser(stargazers):\n",
    "    \n",
    "    temp_list = []\n",
    "    for edge in graph.edges(data = True):\n",
    "        if edge[2]['type'] == 'follows':\n",
    "            temp_list.append(edge[1])\n",
    "    counter = Counter(temp_list)\n",
    "    \n",
    "    popular_users = []\n",
    "    for u, f in counter.most_common():\n",
    "        popular_users.append((u,f))\n",
    "    print (\"Number of popular users\", len(popular_users))\n",
    "    print (\"Top popular users:\", popular_users[:10])\n",
    "    return popular_users[:10]\n",
    "hottestUsers = getHottestUser(stargazers)\n",
    "\n",
    "\n"
   ]
  },
  {
   "cell_type": "markdown",
   "metadata": {},
   "source": [
    "The result above shows the most popular users. However, we care more about some centralities that NetworkX provided.\n",
    "#### Degree Centrality\n",
    "First, the Degree Centrality for a node v is the fraction of nodes it is connected to. \n",
    "#### Betweenness Centrality\n",
    "Also, the Betweenness Centrality compute the shortest path for nodes. It is the sum of the fraction of all-pairs shortest paths that pass through the node v. \n",
    "#### Closeness Centrality\n",
    "Lastly, the Closeness Centrality of a node u is the reciprocal of the sum of the shortest path distances from u to all n-1 other nodes. Since the sum of distances depends on the number of nodes in the graph, closeness is normalized by the sum of minimum possible distances n-1.\n",
    "\n",
    "\n"
   ]
  },
  {
   "cell_type": "code",
   "execution_count": 7,
   "metadata": {},
   "outputs": [
    {
     "name": "stdout",
     "output_type": "stream",
     "text": [
      "Degree Centrality\n",
      "[('fly51fly(user)', 0.08955223880597014), ('gauravssnl(user)', 0.04477611940298507), ('esafak(user)', 0.03980099502487562), ('minimaxir(user)', 0.03482587064676617), ('andrewiiird(user)', 0.03482587064676617)] \n",
      "\n",
      "Betweenness Centrality\n",
      "[('esafak(user)', 0.0003772802653399668), ('rgbkrk(user)', 0.00028606965174129354), ('dapurv5(user)', 9.950248756218905e-05), ('andrewiiird(user)', 9.12106135986733e-05), ('nchammas(user)', 8.706467661691541e-05)] \n",
      "\n",
      "Closeness Centrality\n",
      "[('freeman-lab(user)', 0.03655634869132597), ('minimaxir(user)', 0.03482587064676617), ('stared(user)', 0.030472636815920398), ('rgbkrk(user)', 0.026533996683250412), ('nchammas(user)', 0.01990049751243781)]\n"
     ]
    }
   ],
   "source": [
    "def formatResult(graph):\n",
    "    graph_copy = graph.copy()\n",
    "    # Remove center node\n",
    "    graph_copy.remove_node('findspark(repo)')\n",
    "\n",
    "    dc = sorted(nx.degree_centrality(graph_copy).items(), \n",
    "                key=itemgetter(1), reverse=True)\n",
    "\n",
    "    bc = sorted(nx.betweenness_centrality(graph_copy).items(), \n",
    "                key=itemgetter(1), reverse=True)\n",
    "    cc = sorted(nx.closeness_centrality(graph_copy).items(), \n",
    "                key=itemgetter(1), reverse=True)\n",
    "    return (dc, bc, cc)\n",
    "\n",
    "dc, bc, cc = formatResult(graph)\n",
    "\n",
    "print (\"Degree Centrality\")\n",
    "print (dc[:5],'\\n')\n",
    "\n",
    "print (\"Betweenness Centrality\")\n",
    "print (bc[:5],'\\n')\n",
    "\n",
    "print (\"Closeness Centrality\")\n",
    "print (cc[:5])"
   ]
  },
  {
   "cell_type": "markdown",
   "metadata": {},
   "source": [
    "### Find Hottest Repository "
   ]
  },
  {
   "cell_type": "markdown",
   "metadata": {},
   "source": [
    "For the network we have currently, there is only one repo. To find the hottest repository, we need to go through each user in the network and then add their starred repos into the network. After that, it is easy for us to get the popular repositories. Moreover, we can also get to know the language preference of one certain user."
   ]
  },
  {
   "cell_type": "markdown",
   "metadata": {},
   "source": [
    "There are two input parameters of function buildRepoNet. The stargazers is the output of function buildRepoRelations which is a list of users who starred this original repo. Sometimes a user marks too many repos and it takes a lot of time to build the net. So here the limit_repo parameter could define the maximum of the repos of one user we need to add into the net. "
   ]
  },
  {
   "cell_type": "code",
   "execution_count": 10,
   "metadata": {},
   "outputs": [],
   "source": [
    "def buildRepoNet(stargazers, limit_repo):\n",
    "    for i, v in enumerate(stargazers):\n",
    "        print(v.login)\n",
    "        try:\n",
    "            for starred in v.get_starred()[:limit_repo]:  # Slice to avoid supernodes\n",
    "                graph.add_node(starred.name + '(repo)', type='repo', lang=starred.language, \\\n",
    "                           owner=starred.owner.login)\n",
    "                graph.add_edge(v.login + '(user)', starred.name + '(repo)', type='gazes')\n",
    "        except Exception:  # ssl.SSLError:\n",
    "            print(\"Encountered an error fetching starred repos for\", v.login, \"Skipping.\")\n",
    "\n",
    "        print(\"Num nodes/edges in graph\", graph.number_of_nodes(), \"/\", graph.number_of_edges())\n",
    "    print(nx.info(graph), '\\n')\n"
   ]
  },
  {
   "cell_type": "markdown",
   "metadata": {},
   "source": [
    "Here we define the number of limit_repo as 500. It takes about 1 minute to generate the repo net."
   ]
  },
  {
   "cell_type": "code",
   "execution_count": 11,
   "metadata": {
    "scrolled": true
   },
   "outputs": [
    {
     "name": "stdout",
     "output_type": "stream",
     "text": [
      "pchalasani\n"
     ]
    },
    {
     "ename": "KeyboardInterrupt",
     "evalue": "",
     "output_type": "error",
     "traceback": [
      "\u001b[0;31m---------------------------------------------------------------------------\u001b[0m",
      "\u001b[0;31mKeyboardInterrupt\u001b[0m                         Traceback (most recent call last)",
      "\u001b[0;32m<ipython-input-11-1efd4bd7b83e>\u001b[0m in \u001b[0;36m<module>\u001b[0;34m()\u001b[0m\n\u001b[0;32m----> 1\u001b[0;31m \u001b[0mbuildRepoNet\u001b[0m\u001b[0;34m(\u001b[0m\u001b[0mstargazers\u001b[0m\u001b[0;34m,\u001b[0m\u001b[0;36m500\u001b[0m\u001b[0;34m)\u001b[0m\u001b[0;34m\u001b[0m\u001b[0m\n\u001b[0m",
      "\u001b[0;32m<ipython-input-10-b6cb7efe844f>\u001b[0m in \u001b[0;36mbuildRepoNet\u001b[0;34m(stargazers, limit_repo)\u001b[0m\n\u001b[1;32m      3\u001b[0m         \u001b[0mprint\u001b[0m\u001b[0;34m(\u001b[0m\u001b[0mv\u001b[0m\u001b[0;34m.\u001b[0m\u001b[0mlogin\u001b[0m\u001b[0;34m)\u001b[0m\u001b[0;34m\u001b[0m\u001b[0m\n\u001b[1;32m      4\u001b[0m         \u001b[0;32mtry\u001b[0m\u001b[0;34m:\u001b[0m\u001b[0;34m\u001b[0m\u001b[0m\n\u001b[0;32m----> 5\u001b[0;31m             \u001b[0;32mfor\u001b[0m \u001b[0mstarred\u001b[0m \u001b[0;32min\u001b[0m \u001b[0mv\u001b[0m\u001b[0;34m.\u001b[0m\u001b[0mget_starred\u001b[0m\u001b[0;34m(\u001b[0m\u001b[0;34m)\u001b[0m\u001b[0;34m[\u001b[0m\u001b[0;34m:\u001b[0m\u001b[0mlimit_repo\u001b[0m\u001b[0;34m]\u001b[0m\u001b[0;34m:\u001b[0m  \u001b[0;31m# Slice to avoid supernodes\u001b[0m\u001b[0;34m\u001b[0m\u001b[0m\n\u001b[0m\u001b[1;32m      6\u001b[0m                 \u001b[0mgraph\u001b[0m\u001b[0;34m.\u001b[0m\u001b[0madd_node\u001b[0m\u001b[0;34m(\u001b[0m\u001b[0mstarred\u001b[0m\u001b[0;34m.\u001b[0m\u001b[0mname\u001b[0m \u001b[0;34m+\u001b[0m \u001b[0;34m'(repo)'\u001b[0m\u001b[0;34m,\u001b[0m \u001b[0mtype\u001b[0m\u001b[0;34m=\u001b[0m\u001b[0;34m'repo'\u001b[0m\u001b[0;34m,\u001b[0m \u001b[0mlang\u001b[0m\u001b[0;34m=\u001b[0m\u001b[0mstarred\u001b[0m\u001b[0;34m.\u001b[0m\u001b[0mlanguage\u001b[0m\u001b[0;34m,\u001b[0m                            \u001b[0mowner\u001b[0m\u001b[0;34m=\u001b[0m\u001b[0mstarred\u001b[0m\u001b[0;34m.\u001b[0m\u001b[0mowner\u001b[0m\u001b[0;34m.\u001b[0m\u001b[0mlogin\u001b[0m\u001b[0;34m)\u001b[0m\u001b[0;34m\u001b[0m\u001b[0m\n\u001b[1;32m      7\u001b[0m                 \u001b[0mgraph\u001b[0m\u001b[0;34m.\u001b[0m\u001b[0madd_edge\u001b[0m\u001b[0;34m(\u001b[0m\u001b[0mv\u001b[0m\u001b[0;34m.\u001b[0m\u001b[0mlogin\u001b[0m \u001b[0;34m+\u001b[0m \u001b[0;34m'(user)'\u001b[0m\u001b[0;34m,\u001b[0m \u001b[0mstarred\u001b[0m\u001b[0;34m.\u001b[0m\u001b[0mname\u001b[0m \u001b[0;34m+\u001b[0m \u001b[0;34m'(repo)'\u001b[0m\u001b[0;34m,\u001b[0m \u001b[0mtype\u001b[0m\u001b[0;34m=\u001b[0m\u001b[0;34m'gazes'\u001b[0m\u001b[0;34m)\u001b[0m\u001b[0;34m\u001b[0m\u001b[0m\n",
      "\u001b[0;32m~/anaconda3/lib/python3.6/site-packages/github/PaginatedList.py\u001b[0m in \u001b[0;36m__iter__\u001b[0;34m(self)\u001b[0m\n\u001b[1;32m     83\u001b[0m             \u001b[0;32mwhile\u001b[0m \u001b[0;32mnot\u001b[0m \u001b[0mself\u001b[0m\u001b[0;34m.\u001b[0m\u001b[0m__finished\u001b[0m\u001b[0;34m(\u001b[0m\u001b[0mindex\u001b[0m\u001b[0;34m)\u001b[0m\u001b[0;34m:\u001b[0m\u001b[0;34m\u001b[0m\u001b[0m\n\u001b[1;32m     84\u001b[0m                 \u001b[0;32mif\u001b[0m \u001b[0mself\u001b[0m\u001b[0;34m.\u001b[0m\u001b[0m__list\u001b[0m\u001b[0;34m.\u001b[0m\u001b[0m_isBiggerThan\u001b[0m\u001b[0;34m(\u001b[0m\u001b[0mindex\u001b[0m\u001b[0;34m)\u001b[0m\u001b[0;34m:\u001b[0m\u001b[0;34m\u001b[0m\u001b[0m\n\u001b[0;32m---> 85\u001b[0;31m                     \u001b[0;32myield\u001b[0m \u001b[0mself\u001b[0m\u001b[0;34m.\u001b[0m\u001b[0m__list\u001b[0m\u001b[0;34m[\u001b[0m\u001b[0mindex\u001b[0m\u001b[0;34m]\u001b[0m\u001b[0;34m\u001b[0m\u001b[0m\n\u001b[0m\u001b[1;32m     86\u001b[0m                     \u001b[0mindex\u001b[0m \u001b[0;34m+=\u001b[0m \u001b[0mself\u001b[0m\u001b[0;34m.\u001b[0m\u001b[0m__step\u001b[0m\u001b[0;34m\u001b[0m\u001b[0m\n\u001b[1;32m     87\u001b[0m                 \u001b[0;32melse\u001b[0m\u001b[0;34m:\u001b[0m\u001b[0;34m\u001b[0m\u001b[0m\n",
      "\u001b[0;32m~/anaconda3/lib/python3.6/site-packages/github/PaginatedList.py\u001b[0m in \u001b[0;36m__getitem__\u001b[0;34m(self, index)\u001b[0m\n\u001b[1;32m     47\u001b[0m         \u001b[0;32massert\u001b[0m \u001b[0misinstance\u001b[0m\u001b[0;34m(\u001b[0m\u001b[0mindex\u001b[0m\u001b[0;34m,\u001b[0m \u001b[0;34m(\u001b[0m\u001b[0mint\u001b[0m\u001b[0;34m,\u001b[0m \u001b[0mslice\u001b[0m\u001b[0;34m)\u001b[0m\u001b[0;34m)\u001b[0m\u001b[0;34m\u001b[0m\u001b[0m\n\u001b[1;32m     48\u001b[0m         \u001b[0;32mif\u001b[0m \u001b[0misinstance\u001b[0m\u001b[0;34m(\u001b[0m\u001b[0mindex\u001b[0m\u001b[0;34m,\u001b[0m \u001b[0mint\u001b[0m\u001b[0;34m)\u001b[0m\u001b[0;34m:\u001b[0m\u001b[0;34m\u001b[0m\u001b[0m\n\u001b[0;32m---> 49\u001b[0;31m             \u001b[0mself\u001b[0m\u001b[0;34m.\u001b[0m\u001b[0m__fetchToIndex\u001b[0m\u001b[0;34m(\u001b[0m\u001b[0mindex\u001b[0m\u001b[0;34m)\u001b[0m\u001b[0;34m\u001b[0m\u001b[0m\n\u001b[0m\u001b[1;32m     50\u001b[0m             \u001b[0;32mreturn\u001b[0m \u001b[0mself\u001b[0m\u001b[0;34m.\u001b[0m\u001b[0m__elements\u001b[0m\u001b[0;34m[\u001b[0m\u001b[0mindex\u001b[0m\u001b[0;34m]\u001b[0m\u001b[0;34m\u001b[0m\u001b[0m\n\u001b[1;32m     51\u001b[0m         \u001b[0;32melse\u001b[0m\u001b[0;34m:\u001b[0m\u001b[0;34m\u001b[0m\u001b[0m\n",
      "\u001b[0;32m~/anaconda3/lib/python3.6/site-packages/github/PaginatedList.py\u001b[0m in \u001b[0;36m__fetchToIndex\u001b[0;34m(self, index)\u001b[0m\n\u001b[1;32m     65\u001b[0m     \u001b[0;32mdef\u001b[0m \u001b[0m__fetchToIndex\u001b[0m\u001b[0;34m(\u001b[0m\u001b[0mself\u001b[0m\u001b[0;34m,\u001b[0m \u001b[0mindex\u001b[0m\u001b[0;34m)\u001b[0m\u001b[0;34m:\u001b[0m\u001b[0;34m\u001b[0m\u001b[0m\n\u001b[1;32m     66\u001b[0m         \u001b[0;32mwhile\u001b[0m \u001b[0mlen\u001b[0m\u001b[0;34m(\u001b[0m\u001b[0mself\u001b[0m\u001b[0;34m.\u001b[0m\u001b[0m__elements\u001b[0m\u001b[0;34m)\u001b[0m \u001b[0;34m<=\u001b[0m \u001b[0mindex\u001b[0m \u001b[0;32mand\u001b[0m \u001b[0mself\u001b[0m\u001b[0;34m.\u001b[0m\u001b[0m_couldGrow\u001b[0m\u001b[0;34m(\u001b[0m\u001b[0;34m)\u001b[0m\u001b[0;34m:\u001b[0m\u001b[0;34m\u001b[0m\u001b[0m\n\u001b[0;32m---> 67\u001b[0;31m             \u001b[0mself\u001b[0m\u001b[0;34m.\u001b[0m\u001b[0m_grow\u001b[0m\u001b[0;34m(\u001b[0m\u001b[0;34m)\u001b[0m\u001b[0;34m\u001b[0m\u001b[0m\n\u001b[0m\u001b[1;32m     68\u001b[0m \u001b[0;34m\u001b[0m\u001b[0m\n\u001b[1;32m     69\u001b[0m     \u001b[0;32mdef\u001b[0m \u001b[0m_grow\u001b[0m\u001b[0;34m(\u001b[0m\u001b[0mself\u001b[0m\u001b[0;34m)\u001b[0m\u001b[0;34m:\u001b[0m\u001b[0;34m\u001b[0m\u001b[0m\n",
      "\u001b[0;32m~/anaconda3/lib/python3.6/site-packages/github/PaginatedList.py\u001b[0m in \u001b[0;36m_grow\u001b[0;34m(self)\u001b[0m\n\u001b[1;32m     68\u001b[0m \u001b[0;34m\u001b[0m\u001b[0m\n\u001b[1;32m     69\u001b[0m     \u001b[0;32mdef\u001b[0m \u001b[0m_grow\u001b[0m\u001b[0;34m(\u001b[0m\u001b[0mself\u001b[0m\u001b[0;34m)\u001b[0m\u001b[0;34m:\u001b[0m\u001b[0;34m\u001b[0m\u001b[0m\n\u001b[0;32m---> 70\u001b[0;31m         \u001b[0mnewElements\u001b[0m \u001b[0;34m=\u001b[0m \u001b[0mself\u001b[0m\u001b[0;34m.\u001b[0m\u001b[0m_fetchNextPage\u001b[0m\u001b[0;34m(\u001b[0m\u001b[0;34m)\u001b[0m\u001b[0;34m\u001b[0m\u001b[0m\n\u001b[0m\u001b[1;32m     71\u001b[0m         \u001b[0mself\u001b[0m\u001b[0;34m.\u001b[0m\u001b[0m__elements\u001b[0m \u001b[0;34m+=\u001b[0m \u001b[0mnewElements\u001b[0m\u001b[0;34m\u001b[0m\u001b[0m\n\u001b[1;32m     72\u001b[0m         \u001b[0;32mreturn\u001b[0m \u001b[0mnewElements\u001b[0m\u001b[0;34m\u001b[0m\u001b[0m\n",
      "\u001b[0;32m~/anaconda3/lib/python3.6/site-packages/github/PaginatedList.py\u001b[0m in \u001b[0;36m_fetchNextPage\u001b[0;34m(self)\u001b[0m\n\u001b[1;32m    170\u001b[0m             \u001b[0mself\u001b[0m\u001b[0;34m.\u001b[0m\u001b[0m__nextUrl\u001b[0m\u001b[0;34m,\u001b[0m\u001b[0;34m\u001b[0m\u001b[0m\n\u001b[1;32m    171\u001b[0m             \u001b[0mparameters\u001b[0m\u001b[0;34m=\u001b[0m\u001b[0mself\u001b[0m\u001b[0;34m.\u001b[0m\u001b[0m__nextParams\u001b[0m\u001b[0;34m,\u001b[0m\u001b[0;34m\u001b[0m\u001b[0m\n\u001b[0;32m--> 172\u001b[0;31m             \u001b[0mheaders\u001b[0m\u001b[0;34m=\u001b[0m\u001b[0mself\u001b[0m\u001b[0;34m.\u001b[0m\u001b[0m__headers\u001b[0m\u001b[0;34m\u001b[0m\u001b[0m\n\u001b[0m\u001b[1;32m    173\u001b[0m         )\n\u001b[1;32m    174\u001b[0m         \u001b[0mdata\u001b[0m \u001b[0;34m=\u001b[0m \u001b[0mdata\u001b[0m \u001b[0;32mif\u001b[0m \u001b[0mdata\u001b[0m \u001b[0;32melse\u001b[0m \u001b[0;34m[\u001b[0m\u001b[0;34m]\u001b[0m\u001b[0;34m\u001b[0m\u001b[0m\n",
      "\u001b[0;32m~/anaconda3/lib/python3.6/site-packages/github/Requester.py\u001b[0m in \u001b[0;36mrequestJsonAndCheck\u001b[0;34m(self, verb, url, parameters, headers, input, cnx)\u001b[0m\n\u001b[1;32m    183\u001b[0m \u001b[0;34m\u001b[0m\u001b[0m\n\u001b[1;32m    184\u001b[0m     \u001b[0;32mdef\u001b[0m \u001b[0mrequestJsonAndCheck\u001b[0m\u001b[0;34m(\u001b[0m\u001b[0mself\u001b[0m\u001b[0;34m,\u001b[0m \u001b[0mverb\u001b[0m\u001b[0;34m,\u001b[0m \u001b[0murl\u001b[0m\u001b[0;34m,\u001b[0m \u001b[0mparameters\u001b[0m\u001b[0;34m=\u001b[0m\u001b[0;32mNone\u001b[0m\u001b[0;34m,\u001b[0m \u001b[0mheaders\u001b[0m\u001b[0;34m=\u001b[0m\u001b[0;32mNone\u001b[0m\u001b[0;34m,\u001b[0m \u001b[0minput\u001b[0m\u001b[0;34m=\u001b[0m\u001b[0;32mNone\u001b[0m\u001b[0;34m,\u001b[0m \u001b[0mcnx\u001b[0m\u001b[0;34m=\u001b[0m\u001b[0;32mNone\u001b[0m\u001b[0;34m)\u001b[0m\u001b[0;34m:\u001b[0m\u001b[0;34m\u001b[0m\u001b[0m\n\u001b[0;32m--> 185\u001b[0;31m         \u001b[0;32mreturn\u001b[0m \u001b[0mself\u001b[0m\u001b[0;34m.\u001b[0m\u001b[0m__check\u001b[0m\u001b[0;34m(\u001b[0m\u001b[0;34m*\u001b[0m\u001b[0mself\u001b[0m\u001b[0;34m.\u001b[0m\u001b[0mrequestJson\u001b[0m\u001b[0;34m(\u001b[0m\u001b[0mverb\u001b[0m\u001b[0;34m,\u001b[0m \u001b[0murl\u001b[0m\u001b[0;34m,\u001b[0m \u001b[0mparameters\u001b[0m\u001b[0;34m,\u001b[0m \u001b[0mheaders\u001b[0m\u001b[0;34m,\u001b[0m \u001b[0minput\u001b[0m\u001b[0;34m,\u001b[0m \u001b[0mcnx\u001b[0m\u001b[0;34m)\u001b[0m\u001b[0;34m)\u001b[0m\u001b[0;34m\u001b[0m\u001b[0m\n\u001b[0m\u001b[1;32m    186\u001b[0m \u001b[0;34m\u001b[0m\u001b[0m\n\u001b[1;32m    187\u001b[0m     \u001b[0;32mdef\u001b[0m \u001b[0mrequestMultipartAndCheck\u001b[0m\u001b[0;34m(\u001b[0m\u001b[0mself\u001b[0m\u001b[0;34m,\u001b[0m \u001b[0mverb\u001b[0m\u001b[0;34m,\u001b[0m \u001b[0murl\u001b[0m\u001b[0;34m,\u001b[0m \u001b[0mparameters\u001b[0m\u001b[0;34m=\u001b[0m\u001b[0;32mNone\u001b[0m\u001b[0;34m,\u001b[0m \u001b[0mheaders\u001b[0m\u001b[0;34m=\u001b[0m\u001b[0;32mNone\u001b[0m\u001b[0;34m,\u001b[0m \u001b[0minput\u001b[0m\u001b[0;34m=\u001b[0m\u001b[0;32mNone\u001b[0m\u001b[0;34m)\u001b[0m\u001b[0;34m:\u001b[0m\u001b[0;34m\u001b[0m\u001b[0m\n",
      "\u001b[0;32m~/anaconda3/lib/python3.6/site-packages/github/Requester.py\u001b[0m in \u001b[0;36mrequestJson\u001b[0;34m(self, verb, url, parameters, headers, input, cnx)\u001b[0m\n\u001b[1;32m    229\u001b[0m             \u001b[0;32mreturn\u001b[0m \u001b[0;34m\"application/json\"\u001b[0m\u001b[0;34m,\u001b[0m \u001b[0mjson\u001b[0m\u001b[0;34m.\u001b[0m\u001b[0mdumps\u001b[0m\u001b[0;34m(\u001b[0m\u001b[0minput\u001b[0m\u001b[0;34m)\u001b[0m\u001b[0;34m\u001b[0m\u001b[0m\n\u001b[1;32m    230\u001b[0m \u001b[0;34m\u001b[0m\u001b[0m\n\u001b[0;32m--> 231\u001b[0;31m         \u001b[0;32mreturn\u001b[0m \u001b[0mself\u001b[0m\u001b[0;34m.\u001b[0m\u001b[0m__requestEncode\u001b[0m\u001b[0;34m(\u001b[0m\u001b[0mcnx\u001b[0m\u001b[0;34m,\u001b[0m \u001b[0mverb\u001b[0m\u001b[0;34m,\u001b[0m \u001b[0murl\u001b[0m\u001b[0;34m,\u001b[0m \u001b[0mparameters\u001b[0m\u001b[0;34m,\u001b[0m \u001b[0mheaders\u001b[0m\u001b[0;34m,\u001b[0m \u001b[0minput\u001b[0m\u001b[0;34m,\u001b[0m \u001b[0mencode\u001b[0m\u001b[0;34m)\u001b[0m\u001b[0;34m\u001b[0m\u001b[0m\n\u001b[0m\u001b[1;32m    232\u001b[0m \u001b[0;34m\u001b[0m\u001b[0m\n\u001b[1;32m    233\u001b[0m     \u001b[0;32mdef\u001b[0m \u001b[0mrequestMultipart\u001b[0m\u001b[0;34m(\u001b[0m\u001b[0mself\u001b[0m\u001b[0;34m,\u001b[0m \u001b[0mverb\u001b[0m\u001b[0;34m,\u001b[0m \u001b[0murl\u001b[0m\u001b[0;34m,\u001b[0m \u001b[0mparameters\u001b[0m\u001b[0;34m=\u001b[0m\u001b[0;32mNone\u001b[0m\u001b[0;34m,\u001b[0m \u001b[0mheaders\u001b[0m\u001b[0;34m=\u001b[0m\u001b[0;32mNone\u001b[0m\u001b[0;34m,\u001b[0m \u001b[0minput\u001b[0m\u001b[0;34m=\u001b[0m\u001b[0;32mNone\u001b[0m\u001b[0;34m)\u001b[0m\u001b[0;34m:\u001b[0m\u001b[0;34m\u001b[0m\u001b[0m\n",
      "\u001b[0;32m~/anaconda3/lib/python3.6/site-packages/github/Requester.py\u001b[0m in \u001b[0;36m__requestEncode\u001b[0;34m(self, cnx, verb, url, parameters, requestHeaders, input, encode)\u001b[0m\n\u001b[1;32m    282\u001b[0m         \u001b[0mself\u001b[0m\u001b[0;34m.\u001b[0m\u001b[0mNEW_DEBUG_FRAME\u001b[0m\u001b[0;34m(\u001b[0m\u001b[0mrequestHeaders\u001b[0m\u001b[0;34m)\u001b[0m\u001b[0;34m\u001b[0m\u001b[0m\n\u001b[1;32m    283\u001b[0m \u001b[0;34m\u001b[0m\u001b[0m\n\u001b[0;32m--> 284\u001b[0;31m         \u001b[0mstatus\u001b[0m\u001b[0;34m,\u001b[0m \u001b[0mresponseHeaders\u001b[0m\u001b[0;34m,\u001b[0m \u001b[0moutput\u001b[0m \u001b[0;34m=\u001b[0m \u001b[0mself\u001b[0m\u001b[0;34m.\u001b[0m\u001b[0m__requestRaw\u001b[0m\u001b[0;34m(\u001b[0m\u001b[0mcnx\u001b[0m\u001b[0;34m,\u001b[0m \u001b[0mverb\u001b[0m\u001b[0;34m,\u001b[0m \u001b[0murl\u001b[0m\u001b[0;34m,\u001b[0m \u001b[0mrequestHeaders\u001b[0m\u001b[0;34m,\u001b[0m \u001b[0mencoded_input\u001b[0m\u001b[0;34m)\u001b[0m\u001b[0;34m\u001b[0m\u001b[0m\n\u001b[0m\u001b[1;32m    285\u001b[0m \u001b[0;34m\u001b[0m\u001b[0m\n\u001b[1;32m    286\u001b[0m         \u001b[0;32mif\u001b[0m \u001b[0;34m\"x-ratelimit-remaining\"\u001b[0m \u001b[0;32min\u001b[0m \u001b[0mresponseHeaders\u001b[0m \u001b[0;32mand\u001b[0m \u001b[0;34m\"x-ratelimit-limit\"\u001b[0m \u001b[0;32min\u001b[0m \u001b[0mresponseHeaders\u001b[0m\u001b[0;34m:\u001b[0m\u001b[0;34m\u001b[0m\u001b[0m\n",
      "\u001b[0;32m~/anaconda3/lib/python3.6/site-packages/github/Requester.py\u001b[0m in \u001b[0;36m__requestRaw\u001b[0;34m(self, cnx, verb, url, requestHeaders, input)\u001b[0m\n\u001b[1;32m    313\u001b[0m         \u001b[0mstatus\u001b[0m \u001b[0;34m=\u001b[0m \u001b[0mresponse\u001b[0m\u001b[0;34m.\u001b[0m\u001b[0mstatus\u001b[0m\u001b[0;34m\u001b[0m\u001b[0m\n\u001b[1;32m    314\u001b[0m         \u001b[0mresponseHeaders\u001b[0m \u001b[0;34m=\u001b[0m \u001b[0mdict\u001b[0m\u001b[0;34m(\u001b[0m\u001b[0;34m(\u001b[0m\u001b[0mk\u001b[0m\u001b[0;34m.\u001b[0m\u001b[0mlower\u001b[0m\u001b[0;34m(\u001b[0m\u001b[0;34m)\u001b[0m\u001b[0;34m,\u001b[0m \u001b[0mv\u001b[0m\u001b[0;34m)\u001b[0m \u001b[0;32mfor\u001b[0m \u001b[0mk\u001b[0m\u001b[0;34m,\u001b[0m \u001b[0mv\u001b[0m \u001b[0;32min\u001b[0m \u001b[0mresponse\u001b[0m\u001b[0;34m.\u001b[0m\u001b[0mgetheaders\u001b[0m\u001b[0;34m(\u001b[0m\u001b[0;34m)\u001b[0m\u001b[0;34m)\u001b[0m\u001b[0;34m\u001b[0m\u001b[0m\n\u001b[0;32m--> 315\u001b[0;31m         \u001b[0moutput\u001b[0m \u001b[0;34m=\u001b[0m \u001b[0mresponse\u001b[0m\u001b[0;34m.\u001b[0m\u001b[0mread\u001b[0m\u001b[0;34m(\u001b[0m\u001b[0;34m)\u001b[0m\u001b[0;34m\u001b[0m\u001b[0m\n\u001b[0m\u001b[1;32m    316\u001b[0m \u001b[0;34m\u001b[0m\u001b[0m\n\u001b[1;32m    317\u001b[0m         \u001b[0mcnx\u001b[0m\u001b[0;34m.\u001b[0m\u001b[0mclose\u001b[0m\u001b[0;34m(\u001b[0m\u001b[0;34m)\u001b[0m\u001b[0;34m\u001b[0m\u001b[0m\n",
      "\u001b[0;32m~/anaconda3/lib/python3.6/http/client.py\u001b[0m in \u001b[0;36mread\u001b[0;34m(self, amt)\u001b[0m\n\u001b[1;32m    460\u001b[0m             \u001b[0;32melse\u001b[0m\u001b[0;34m:\u001b[0m\u001b[0;34m\u001b[0m\u001b[0m\n\u001b[1;32m    461\u001b[0m                 \u001b[0;32mtry\u001b[0m\u001b[0;34m:\u001b[0m\u001b[0;34m\u001b[0m\u001b[0m\n\u001b[0;32m--> 462\u001b[0;31m                     \u001b[0ms\u001b[0m \u001b[0;34m=\u001b[0m \u001b[0mself\u001b[0m\u001b[0;34m.\u001b[0m\u001b[0m_safe_read\u001b[0m\u001b[0;34m(\u001b[0m\u001b[0mself\u001b[0m\u001b[0;34m.\u001b[0m\u001b[0mlength\u001b[0m\u001b[0;34m)\u001b[0m\u001b[0;34m\u001b[0m\u001b[0m\n\u001b[0m\u001b[1;32m    463\u001b[0m                 \u001b[0;32mexcept\u001b[0m \u001b[0mIncompleteRead\u001b[0m\u001b[0;34m:\u001b[0m\u001b[0;34m\u001b[0m\u001b[0m\n\u001b[1;32m    464\u001b[0m                     \u001b[0mself\u001b[0m\u001b[0;34m.\u001b[0m\u001b[0m_close_conn\u001b[0m\u001b[0;34m(\u001b[0m\u001b[0;34m)\u001b[0m\u001b[0;34m\u001b[0m\u001b[0m\n",
      "\u001b[0;32m~/anaconda3/lib/python3.6/http/client.py\u001b[0m in \u001b[0;36m_safe_read\u001b[0;34m(self, amt)\u001b[0m\n\u001b[1;32m    610\u001b[0m         \u001b[0ms\u001b[0m \u001b[0;34m=\u001b[0m \u001b[0;34m[\u001b[0m\u001b[0;34m]\u001b[0m\u001b[0;34m\u001b[0m\u001b[0m\n\u001b[1;32m    611\u001b[0m         \u001b[0;32mwhile\u001b[0m \u001b[0mamt\u001b[0m \u001b[0;34m>\u001b[0m \u001b[0;36m0\u001b[0m\u001b[0;34m:\u001b[0m\u001b[0;34m\u001b[0m\u001b[0m\n\u001b[0;32m--> 612\u001b[0;31m             \u001b[0mchunk\u001b[0m \u001b[0;34m=\u001b[0m \u001b[0mself\u001b[0m\u001b[0;34m.\u001b[0m\u001b[0mfp\u001b[0m\u001b[0;34m.\u001b[0m\u001b[0mread\u001b[0m\u001b[0;34m(\u001b[0m\u001b[0mmin\u001b[0m\u001b[0;34m(\u001b[0m\u001b[0mamt\u001b[0m\u001b[0;34m,\u001b[0m \u001b[0mMAXAMOUNT\u001b[0m\u001b[0;34m)\u001b[0m\u001b[0;34m)\u001b[0m\u001b[0;34m\u001b[0m\u001b[0m\n\u001b[0m\u001b[1;32m    613\u001b[0m             \u001b[0;32mif\u001b[0m \u001b[0;32mnot\u001b[0m \u001b[0mchunk\u001b[0m\u001b[0;34m:\u001b[0m\u001b[0;34m\u001b[0m\u001b[0m\n\u001b[1;32m    614\u001b[0m                 \u001b[0;32mraise\u001b[0m \u001b[0mIncompleteRead\u001b[0m\u001b[0;34m(\u001b[0m\u001b[0;34mb''\u001b[0m\u001b[0;34m.\u001b[0m\u001b[0mjoin\u001b[0m\u001b[0;34m(\u001b[0m\u001b[0ms\u001b[0m\u001b[0;34m)\u001b[0m\u001b[0;34m,\u001b[0m \u001b[0mamt\u001b[0m\u001b[0;34m)\u001b[0m\u001b[0;34m\u001b[0m\u001b[0m\n",
      "\u001b[0;32m~/anaconda3/lib/python3.6/socket.py\u001b[0m in \u001b[0;36mreadinto\u001b[0;34m(self, b)\u001b[0m\n\u001b[1;32m    584\u001b[0m         \u001b[0;32mwhile\u001b[0m \u001b[0;32mTrue\u001b[0m\u001b[0;34m:\u001b[0m\u001b[0;34m\u001b[0m\u001b[0m\n\u001b[1;32m    585\u001b[0m             \u001b[0;32mtry\u001b[0m\u001b[0;34m:\u001b[0m\u001b[0;34m\u001b[0m\u001b[0m\n\u001b[0;32m--> 586\u001b[0;31m                 \u001b[0;32mreturn\u001b[0m \u001b[0mself\u001b[0m\u001b[0;34m.\u001b[0m\u001b[0m_sock\u001b[0m\u001b[0;34m.\u001b[0m\u001b[0mrecv_into\u001b[0m\u001b[0;34m(\u001b[0m\u001b[0mb\u001b[0m\u001b[0;34m)\u001b[0m\u001b[0;34m\u001b[0m\u001b[0m\n\u001b[0m\u001b[1;32m    587\u001b[0m             \u001b[0;32mexcept\u001b[0m \u001b[0mtimeout\u001b[0m\u001b[0;34m:\u001b[0m\u001b[0;34m\u001b[0m\u001b[0m\n\u001b[1;32m    588\u001b[0m                 \u001b[0mself\u001b[0m\u001b[0;34m.\u001b[0m\u001b[0m_timeout_occurred\u001b[0m \u001b[0;34m=\u001b[0m \u001b[0;32mTrue\u001b[0m\u001b[0;34m\u001b[0m\u001b[0m\n",
      "\u001b[0;32m~/anaconda3/lib/python3.6/ssl.py\u001b[0m in \u001b[0;36mrecv_into\u001b[0;34m(self, buffer, nbytes, flags)\u001b[0m\n\u001b[1;32m   1007\u001b[0m                   \u001b[0;34m\"non-zero flags not allowed in calls to recv_into() on %s\"\u001b[0m \u001b[0;34m%\u001b[0m\u001b[0;34m\u001b[0m\u001b[0m\n\u001b[1;32m   1008\u001b[0m                   self.__class__)\n\u001b[0;32m-> 1009\u001b[0;31m             \u001b[0;32mreturn\u001b[0m \u001b[0mself\u001b[0m\u001b[0;34m.\u001b[0m\u001b[0mread\u001b[0m\u001b[0;34m(\u001b[0m\u001b[0mnbytes\u001b[0m\u001b[0;34m,\u001b[0m \u001b[0mbuffer\u001b[0m\u001b[0;34m)\u001b[0m\u001b[0;34m\u001b[0m\u001b[0m\n\u001b[0m\u001b[1;32m   1010\u001b[0m         \u001b[0;32melse\u001b[0m\u001b[0;34m:\u001b[0m\u001b[0;34m\u001b[0m\u001b[0m\n\u001b[1;32m   1011\u001b[0m             \u001b[0;32mreturn\u001b[0m \u001b[0msocket\u001b[0m\u001b[0;34m.\u001b[0m\u001b[0mrecv_into\u001b[0m\u001b[0;34m(\u001b[0m\u001b[0mself\u001b[0m\u001b[0;34m,\u001b[0m \u001b[0mbuffer\u001b[0m\u001b[0;34m,\u001b[0m \u001b[0mnbytes\u001b[0m\u001b[0;34m,\u001b[0m \u001b[0mflags\u001b[0m\u001b[0;34m)\u001b[0m\u001b[0;34m\u001b[0m\u001b[0m\n",
      "\u001b[0;32m~/anaconda3/lib/python3.6/ssl.py\u001b[0m in \u001b[0;36mread\u001b[0;34m(self, len, buffer)\u001b[0m\n\u001b[1;32m    869\u001b[0m             \u001b[0;32mraise\u001b[0m \u001b[0mValueError\u001b[0m\u001b[0;34m(\u001b[0m\u001b[0;34m\"Read on closed or unwrapped SSL socket.\"\u001b[0m\u001b[0;34m)\u001b[0m\u001b[0;34m\u001b[0m\u001b[0m\n\u001b[1;32m    870\u001b[0m         \u001b[0;32mtry\u001b[0m\u001b[0;34m:\u001b[0m\u001b[0;34m\u001b[0m\u001b[0m\n\u001b[0;32m--> 871\u001b[0;31m             \u001b[0;32mreturn\u001b[0m \u001b[0mself\u001b[0m\u001b[0;34m.\u001b[0m\u001b[0m_sslobj\u001b[0m\u001b[0;34m.\u001b[0m\u001b[0mread\u001b[0m\u001b[0;34m(\u001b[0m\u001b[0mlen\u001b[0m\u001b[0;34m,\u001b[0m \u001b[0mbuffer\u001b[0m\u001b[0;34m)\u001b[0m\u001b[0;34m\u001b[0m\u001b[0m\n\u001b[0m\u001b[1;32m    872\u001b[0m         \u001b[0;32mexcept\u001b[0m \u001b[0mSSLError\u001b[0m \u001b[0;32mas\u001b[0m \u001b[0mx\u001b[0m\u001b[0;34m:\u001b[0m\u001b[0;34m\u001b[0m\u001b[0m\n\u001b[1;32m    873\u001b[0m             \u001b[0;32mif\u001b[0m \u001b[0mx\u001b[0m\u001b[0;34m.\u001b[0m\u001b[0margs\u001b[0m\u001b[0;34m[\u001b[0m\u001b[0;36m0\u001b[0m\u001b[0;34m]\u001b[0m \u001b[0;34m==\u001b[0m \u001b[0mSSL_ERROR_EOF\u001b[0m \u001b[0;32mand\u001b[0m \u001b[0mself\u001b[0m\u001b[0;34m.\u001b[0m\u001b[0msuppress_ragged_eofs\u001b[0m\u001b[0;34m:\u001b[0m\u001b[0;34m\u001b[0m\u001b[0m\n",
      "\u001b[0;32m~/anaconda3/lib/python3.6/ssl.py\u001b[0m in \u001b[0;36mread\u001b[0;34m(self, len, buffer)\u001b[0m\n\u001b[1;32m    629\u001b[0m         \"\"\"\n\u001b[1;32m    630\u001b[0m         \u001b[0;32mif\u001b[0m \u001b[0mbuffer\u001b[0m \u001b[0;32mis\u001b[0m \u001b[0;32mnot\u001b[0m \u001b[0;32mNone\u001b[0m\u001b[0;34m:\u001b[0m\u001b[0;34m\u001b[0m\u001b[0m\n\u001b[0;32m--> 631\u001b[0;31m             \u001b[0mv\u001b[0m \u001b[0;34m=\u001b[0m \u001b[0mself\u001b[0m\u001b[0;34m.\u001b[0m\u001b[0m_sslobj\u001b[0m\u001b[0;34m.\u001b[0m\u001b[0mread\u001b[0m\u001b[0;34m(\u001b[0m\u001b[0mlen\u001b[0m\u001b[0;34m,\u001b[0m \u001b[0mbuffer\u001b[0m\u001b[0;34m)\u001b[0m\u001b[0;34m\u001b[0m\u001b[0m\n\u001b[0m\u001b[1;32m    632\u001b[0m         \u001b[0;32melse\u001b[0m\u001b[0;34m:\u001b[0m\u001b[0;34m\u001b[0m\u001b[0m\n\u001b[1;32m    633\u001b[0m             \u001b[0mv\u001b[0m \u001b[0;34m=\u001b[0m \u001b[0mself\u001b[0m\u001b[0;34m.\u001b[0m\u001b[0m_sslobj\u001b[0m\u001b[0;34m.\u001b[0m\u001b[0mread\u001b[0m\u001b[0;34m(\u001b[0m\u001b[0mlen\u001b[0m\u001b[0;34m)\u001b[0m\u001b[0;34m\u001b[0m\u001b[0m\n",
      "\u001b[0;31mKeyboardInterrupt\u001b[0m: "
     ]
    }
   ],
   "source": [
    "buildRepoNet(stargazers,500)"
   ]
  },
  {
   "cell_type": "markdown",
   "metadata": {},
   "source": [
    "Next, we can use the builded net to get the popular repos. The more users star the repo, the more popular it is. So here we iterate each repo node in the graph and record the hit times."
   ]
  },
  {
   "cell_type": "code",
   "execution_count": 14,
   "metadata": {},
   "outputs": [],
   "source": [
    "def getTopNRepos(n):\n",
    "    print(\"Top \"+str(n)+\" Popular repositories:\")\n",
    "    \n",
    "    repos = []\n",
    "    for (v, i) in graph.in_degree():\n",
    "        if graph.node[v]['type'] == 'repo':\n",
    "            repos.append((v,i))\n",
    "    repos = sorted(repos, key = lambda x:x[1], reverse=True)\n",
    "    return repos[:n]"
   ]
  },
  {
   "cell_type": "markdown",
   "metadata": {},
   "source": [
    "Let's try to get the top 10 popular repositories."
   ]
  },
  {
   "cell_type": "code",
   "execution_count": 15,
   "metadata": {},
   "outputs": [
    {
     "name": "stdout",
     "output_type": "stream",
     "text": [
      "Top 10 Popular repositories:\n",
      "[('findspark(repo)', 202), ('spark(repo)', 25), ('data-science-ipython-notebooks(repo)', 25), ('keras(repo)', 24), ('luigi(repo)', 24), ('tensorflow(repo)', 24), ('spark-notebook(repo)', 22), ('arrow(repo)', 21), ('awesome-public-datasets(repo)', 21), ('awesome-machine-learning(repo)', 19)]\n"
     ]
    }
   ],
   "source": [
    "hottestRepos = getTopNRepos(10)\n",
    "print(hottestRepos)"
   ]
  },
  {
   "cell_type": "markdown",
   "metadata": {},
   "source": [
    "With this net, we can also get the one certain user's preference such as the repositories and the interested languages."
   ]
  },
  {
   "cell_type": "code",
   "execution_count": 16,
   "metadata": {},
   "outputs": [],
   "source": [
    "def getPreferRepos(username):\n",
    "    \n",
    "    repos = []\n",
    "    for v in graph[username+\"(user)\"]:\n",
    "        if graph[username+\"(user)\"][v]['type'] == 'gazes':\n",
    "            repos.append(v)\n",
    "    return repos"
   ]
  },
  {
   "cell_type": "code",
   "execution_count": 17,
   "metadata": {},
   "outputs": [],
   "source": [
    "def getPreferLanguages(username):\n",
    "      \n",
    "    langs = set()\n",
    "    for v in graph[username+\"(user)\"]:\n",
    "        if graph[username+\"(user)\"][v]['type'] == 'gazes':\n",
    "            langs.add(graph.node[v]['lang'])\n",
    "    return langs"
   ]
  },
  {
   "cell_type": "markdown",
   "metadata": {},
   "source": [
    "Here we can check the preference of the hottest user we find above."
   ]
  },
  {
   "cell_type": "code",
   "execution_count": 18,
   "metadata": {},
   "outputs": [
    {
     "name": "stdout",
     "output_type": "stream",
     "text": [
      "minimaxir(user)\n",
      "Respositories that minimaxir has starred\n",
      "['findspark(repo)', 'retro(repo)', 'pic2ascii(repo)', 'nvidia-docker(repo)', 'docker-ubuntu-vnc-desktop(repo)', 'obs-studio_amf-encoder-plugin(repo)', 'slipper(repo)', 'Learning-Rate(repo)', 'pygsheets(repo)', 'Mask_RCNN(repo)', 'Word2Bits(repo)', 'livelossplot(repo)', 'ml-research(repo)', 'chess-alpha-zero(repo)', 'sdow(repo)', 'parse(repo)', 'requests-html(repo)', 'gifski-app(repo)', 'gifski(repo)', 'shinglejs(repo)', 'FastPhotoStyle(repo)', 'python3_with_pleasure(repo)', 'DeepReinforcementLearning(repo)', 'YAD2K(repo)', 'KeepingYouAwake(repo)', 'Keras-GAN(repo)', 'keras-rl(repo)', 'kubeflow(repo)', 'gifgen(repo)', 'tidycensus(repo)', 'magenta(repo)', 'electron-webpack-dashboard(repo)', 'mtgencode-py3(repo)', 'purrrlyr(repo)', 'facets(repo)', 'django-rest-framework-reactive(repo)', 'vuetify(repo)', 'keras-attention-mechanism(repo)', 'CRCN(repo)', 'mmlspark(repo)', 'CoPilot(repo)', 'rest-framework-tutorial(repo)', 'create-react-app(repo)', 'mtgencode(repo)', 'django-react-blog(repo)', 'PDFLayoutTextStripper(repo)', 'dsl-char-cnn(repo)', 'models(repo)', 'basic_deep_learning_keras(repo)', 'textvae(repo)', 'react-bootstrap(repo)', 'LightGBM(repo)', 'viz.js(repo)', 'rsparkling(repo)', 'BigDL(repo)', 'neural-style(repo)', 'wordcloud2.js(repo)', 'office-ui-fabric-react(repo)', 'benchm-ml(repo)', 'fast-style-transfer(repo)', 'django-react-redux-base(repo)', 'keras-molecules(repo)', 'keras(repo)', 'sanic(repo)', 'clickbait-classifier(repo)', 'tensorflow-wavenet(repo)', 'freeboard(repo)', 'flask_jsondash(repo)', 'char-rnn-tensorflow(repo)', 'james(repo)', 'fastText(repo)', 'sofi(repo)', 'fastText.py(repo)', 'pokeapi(repo)', 'lda2vec(repo)', 'words2map(repo)', 'riko(repo)', 'atom-notebook(repo)', 'hydrogen(repo)', 'docker-stacks(repo)', 'cookiecutter-django(repo)', 'MGANs(repo)', 'dl-docker(repo)', 'bootswatch(repo)', 'plotly-shiny(repo)', 'atari-ai(repo)', 'react-boilerplate(repo)', '2016-new-coder-survey(repo)', 'iNDS(repo)', 'shiny(repo)', 'palettable(repo)', 'icon-font-to-png(repo)', 'font-awesome-to-png(repo)', 'spread(repo)', 'neural-doodle(repo)', 'ballr(repo)', 'ggally(repo)', 'plostime(repo)', 'textmining_southpark(repo)', 'dokku(repo)', 'requests(repo)', 'sf-arrests-when-where(repo)', 'gephi-plugins(repo)', 'imdb-data-parser(repo)', 'data-science-ipython-notebooks(repo)', 'DeepLearningVideoGames(repo)', 'duckadmin(repo)', 'baseimage-docker(repo)', 'grayscale-theme(repo)', 'startbootstrap(repo)', 'audacity(repo)', 'openhunt(repo)', 'tdb(repo)', 'rechat(repo)', 'hendrix(repo)', 'data-movies(repo)', 'tpot(repo)', 'nyc-taxi-data(repo)', 'notebooks(repo)', 'bqplot(repo)', 'word_cloud(repo)', 'django-docker(repo)', 'char-rnn(repo)', 'flexx(repo)', 'mooc-setup(repo)', 'mickey(repo)', 'postgrest(repo)', 'learnedleague-analysis(repo)', 'django-tutorial-docker-nginx-postgres(repo)', 'material-design-lite(repo)', 'tf-idf-spark-and-python(repo)', 'docker-compose-nodejs-examples(repo)', 'palladium(repo)', 'rvest(repo)', 'passenger-docker(repo)', 'twitter-application-only-auth(repo)', 'tcbi(repo)', 'pgweb(repo)', 'dygraphs(repo)', 'twython(repo)', 'bootstrap-material-design(repo)', 'ChartNew.js(repo)', 'Chart.js(repo)', 'dc.js(repo)', 'twitter-sentiment-analysis-tutorial-201107(repo)', 'textract(repo)', 'dataset-examples(repo)', 'ember-table(repo)', 'ember-charts(repo)', 'FaceDetect(repo)', 'data(repo)', 'blog_analysis_source(repo)', 'Borderless-Gaming(repo)', 'Hover(repo)', 'meteor-up-legacy(repo)', 'datamaps(repo)', 'ggpy(repo)', 'yamm3(repo)', 'Meteor-cordova(repo)', 'ionicons(repo)', 'redditscraper(repo)', 'xkcd-font(repo)', 'Semantic-UI(repo)', 'uikit(repo)', 'node.io(repo)', 'Vulcan(repo)', 'meteor(repo)', 'maildrop(repo)', 'Seriously.js(repo)', 'octoflat(repo)', 'Flat-UI(repo)', 'pdf2htmlEX(repo)', 'huginn(repo)', 'Make-Projects(repo)']\n",
      "Programming languages minimaxir is interested in\n",
      "{'Jupyter Notebook', 'HTML', 'Matlab', 'NetLogo', 'C#', 'R', 'Lua', 'Objective-C', 'Scala', 'C', 'PHP', 'Java', 'Shell', 'Vim script', 'Python', 'Ruby', 'Julia', 'Go', 'C++', 'CoffeeScript', 'CSS', None, 'TeX', 'JavaScript', 'Haskell'}\n"
     ]
    }
   ],
   "source": [
    "print(hottestUsers[0][0])\n",
    "user = hottestUsers[0][0].split('(')[0]\n",
    "print(\"Respositories that \"+user+ \" has starred\")\n",
    "repos = getPreferRepos(user)\n",
    "print(repos)\n",
    "print(\"Programming languages \"+user+ \" is interested in\")  \n",
    "langs = getPreferLanguages('stared')\n",
    "print(langs)"
   ]
  },
  {
   "cell_type": "markdown",
   "metadata": {},
   "source": [
    "Correspondingly, we can also get the list of users who star one certain repo."
   ]
  },
  {
   "cell_type": "code",
   "execution_count": 21,
   "metadata": {},
   "outputs": [],
   "source": [
    "def getStarredUser(repoName):\n",
    "    users = []\n",
    "    for (v, i) in graph.in_degree_iter():\n",
    "        if graph.node[v]['type'] == 'user':\n",
    "            if repoName+\"(repo)\" in getPreferRepos(v.split('(')[0]):\n",
    "                users.append(v)\n",
    "    return users"
   ]
  },
  {
   "cell_type": "markdown",
   "metadata": {},
   "source": [
    "For the hottest repo, who star it?"
   ]
  },
  {
   "cell_type": "code",
   "execution_count": 22,
   "metadata": {},
   "outputs": [
    {
     "name": "stdout",
     "output_type": "stream",
     "text": [
      "['pchalasani(user)', 'rgbkrk(user)', 'esafak(user)', 'rdhyee(user)', 'rholder(user)', 'freeman-lab(user)', 'he0x(user)', 'cbouey(user)', 'stared(user)', 'ryan-williams(user)', 'nehalecky(user)', 'jazzwang(user)', 'paulochf(user)', 'Erstwild(user)', 'sandysnunes(user)', 'd18s(user)', 'amontalenti(user)', 'richardskim111(user)', 'hmourit(user)', 'robcowie(user)', 'ocanbascil(user)', 'fish2000(user)', 'jiamo(user)', 'aliciatb(user)', 'branning(user)', 'charsmith(user)', 'benetka(user)', 'binhe22(user)', 'cwharland(user)', 'giulioungaretti(user)', 'd2207197(user)', 'lmillefiori(user)', 'KLXN(user)', 'wy36101299(user)', 'seanjh(user)', 'jaredthecoder(user)', 'coder-chenzhi(user)', 'ranjankumar-gh(user)', 'willcline(user)', 'd3borah(user)', 'szinya(user)', 'bguOIQ(user)', 'nchammas(user)', 'qingniufly(user)', 'Hguimaraes(user)', 'rohithreddy(user)', 'markns(user)', 'alexandercbooth(user)', 'opikalo(user)', 'SimonArnu(user)', 'WilliamQLiu(user)', 'DaniGate(user)', 'dapurv5(user)', 'lgautier(user)', 'pbarker(user)', 'henridf(user)', 'cvincent00(user)', 'seanjensengrey(user)', 'Dumbris(user)', 'drizham(user)', 'binaryaaron(user)', 'chrinide(user)', 'minimaxir(user)', 'mdbishop(user)', 'Bekterra(user)', 'lendenmc(user)', 'liulixiang1988(user)', 'quadnix(user)', 'cimox(user)', 'xiaohan2012(user)', 'assumednormal(user)', 'linkTDP(user)', 'dirmeier(user)', 'andrewiiird(user)', 'stzonis(user)', 'napjon(user)', 'luzhijun(user)', 'arthurdouillard(user)', 'beflew(user)', 'jackmaney(user)', 'analyticalmonk(user)', 'telamonian(user)', 'PaulLiang1(user)', 'jmgpeeters(user)', 'LiutongZhou(user)', 'gomaster-me(user)', 'suresh2692(user)', 'williamqzc(user)', 'LImoritakeU(user)', 'kynan(user)', 'hmartiniano(user)', 'nitrofortin(user)', 'tegansnyder(user)', 'modqhx(user)', 'dofine(user)', 'babjo(user)', 'DevendraDesale(user)', 'denadai2(user)', 'szeitlin(user)', 'Pwaldi(user)', 'ntacey(user)', 'eydelrivero(user)', 'mandarup(user)', 'bmcgonigle(user)', 'davakian(user)', 'guiyuting(user)', 'yassineAlouini(user)', 'locojay(user)', 'log0ymxm(user)', 'rjonczy(user)', 'jeffoxenberg(user)', 'ZsnnsZ(user)', 'gbrock16(user)', 'BurritoSlayer(user)', 'XIEQ(user)', 'maffsojah(user)', 'QuinnQ(user)', 'lizraeli(user)', 'fbertsch(user)', 'mamerisawesome(user)', 'jrjames83(user)', 'bcchenbc(user)', 'georghildebrand(user)', 'leovan(user)', 'TiO2(user)', 'chrisPiemonte(user)', 'silverstone1903(user)', 'dclambert(user)', 'LLi1996(user)', 'fly51fly(user)', 'chiayongjian(user)', 'aladdinwang(user)', 'bhairavmehta95(user)', 'baasman(user)', 'nagapavan(user)', 'gauravssnl(user)', 'timfeirg(user)', 'eloaf(user)', 'Gaarv(user)', 'stan2133(user)', 'FavioVazquez(user)', 'dpa078(user)', 'wbashir(user)', 'mapattacker(user)', 'lokinell(user)', 'accavdar(user)', 'okeeffdp(user)', 'gmartinezramirez(user)', 'ursan(user)', 'nikonyrh(user)', 'ravishan16(user)', 'xiaohaoqy(user)', 'fangjq(user)', 'cixuuz(user)', 'alisonzhu(user)', 'bossjones(user)', 'YachaoZhu(user)', 'charrtay(user)', '7125messi(user)', 'dufferzafar(user)', 'andfanilo(user)', 'asmith26(user)', 'Gmousse(user)', 'apascu(user)', 'pheman(user)', 'mirrordust(user)', 'iron0012(user)', 'orkhan103(user)', 'ehrlichja(user)', 'ianchen06(user)', 'carlsunderman(user)', 'smrjan(user)', 'Aaron2Ti(user)', 'jasset75(user)', 'leetschau(user)', 'mdereklee(user)', '0asa(user)', 'whtsky(user)', 'freegnu(user)', 'SoyGema(user)', 'adonovan7(user)', 'prometheosduan(user)', 'sourabhd(user)', 'mikestaszel(user)', 'sophiedophie(user)', 'Nimayer(user)', 'chocolocked(user)', 'gabides(user)', 'soumyadsanyal(user)', 'mas-dse-m2ryu(user)', 'Boukefalos(user)', 'saikatkumardey(user)', 'pluteski(user)', 'rainsunny(user)', 'shriharishastry(user)', 'bwhitesell(user)', 'fivejjs(user)', 'ejalonas(user)', 'christinebuckler(user)', 'yen3(user)', 'liuyang21cn(user)', 'zby0902(user)']\n",
      "202\n"
     ]
    }
   ],
   "source": [
    "users = getStarredUser('findspark')\n",
    "print(users)\n",
    "print(len(users))"
   ]
  },
  {
   "cell_type": "markdown",
   "metadata": {
    "collapsed": true
   },
   "source": [
    "Using the two functions above, we can do some further analysis about the relationship between some hot topics. For each pair of repos, we can count how many people star both two repos? "
   ]
  },
  {
   "cell_type": "code",
   "execution_count": 23,
   "metadata": {},
   "outputs": [],
   "source": [
    "def repoRelationship(repo1, repo2):\n",
    "    user1 = getStarredUser(repo1)\n",
    "    user2 = getStarredUser(repo2)\n",
    "    commonUser = set(user1)&set(user2)\n",
    "    p1 = len(commonUser)/len(user1)\n",
    "    p2 = len(commonUser)/len(user2)\n",
    "    return (p1,p2)"
   ]
  },
  {
   "cell_type": "markdown",
   "metadata": {},
   "source": [
    "To get the visible result, we use library seaborn to create a heatmap."
   ]
  },
  {
   "cell_type": "code",
   "execution_count": 25,
   "metadata": {},
   "outputs": [],
   "source": [
    "import seaborn as sns # for Interactive plots\n",
    "import matplotlib.pyplot as plt # for plots\n",
    "% matplotlib inline\n",
    "import pandas as pd\n",
    "import numpy as np\n",
    "\n",
    "def repoHeatMap(repos):\n",
    "    length = len(repos)\n",
    "    x = np.zeros((length,length))\n",
    "    columns = list(map(lambda x:x[0].split('(')[0],repos))\n",
    "    print(columns)\n",
    "    for i,v in enumerate(columns):\n",
    "        for j in range(i,length):\n",
    "            p1,p2 = repoRelationship(v,columns[j])\n",
    "            if j == i:\n",
    "                x[i][j] = 1\n",
    "            else:\n",
    "                x[i][j] = p1\n",
    "                x[j][i] = p2\n",
    "    df = pd.DataFrame(x,columns = columns)\n",
    "    sns.heatmap(df,annot=True)\n",
    "#     plt.figure(figsize=(12,10))\n",
    "    plt.xticks(rotation=75)\n",
    "    plt.show()"
   ]
  },
  {
   "cell_type": "markdown",
   "metadata": {},
   "source": [
    "We use the top ten hottest repos to create the heatmap."
   ]
  },
  {
   "cell_type": "code",
   "execution_count": 26,
   "metadata": {},
   "outputs": [
    {
     "name": "stdout",
     "output_type": "stream",
     "text": [
      "['findspark', 'spark', 'data-science-ipython-notebooks', 'keras', 'luigi', 'tensorflow', 'spark-notebook', 'arrow', 'awesome-public-datasets', 'awesome-machine-learning']\n"
     ]
    },
    {
     "data": {
      "image/png": "[encoded data removed]",
      "text/plain": [
       "<matplotlib.figure.Figure at 0x151201a7b8>"
      ]
     },
     "metadata": {},
     "output_type": "display_data"
    }
   ],
   "source": [
    "repoHeatMap(hottestRepos)"
   ]
  },
  {
   "cell_type": "markdown",
   "metadata": {
    "collapsed": true
   },
   "source": [
    "### Find Hot Programming Language\n",
    "What if we want to know which is the most popular language for all projects in the current map we generated? We can go through the projects and then extract the language part and put it into the counter to count, this seems easy to do, but what if we want to query how many users are programming in a particular kind of language? This requires scanning the in-degree users of each project, and finally summing up the count results. This idea requires large time complexity. A good idea at this time is to expand the map and use the language as a single node. The logic diagram of the final map is as follows:"
   ]
  },
  {
   "cell_type": "markdown",
   "metadata": {
    "collapsed": true
   },
   "source": [
    "[<img src=\"https://raw.githubusercontent.com/hanna1994/han1994/master/191525762986_.pic_hd.jpg\",width=400, height=400>](https://raw.githubusercontent.com/hanna1994/han1994/master/191525762986_.pic_hd.jpg)"
   ]
  },
  {
   "cell_type": "code",
   "execution_count": 28,
   "metadata": {},
   "outputs": [],
   "source": [
    "repos = [n for n in graph.nodes_iter() if graph.node[n]['type'] == 'repo']\n",
    "\n",
    "for repo in repos:\n",
    "    # some empty projects may have none of the language part\n",
    "    lang = (graph.node[repo]['lang'] or \"\") + \"(lang)\"\n",
    "    # users who gazed repo\n",
    "    stargazers = [u for (u, r, d) in graph.in_edges_iter(repo, data=True) if d['type'] == 'gazes']\n",
    "    \n",
    "    for sg in stargazers:\n",
    "        graph.add_node(lang, type='lang')\n",
    "        graph.add_edge(sg, lang, type='programs')\n",
    "        graph.add_edge(lang, repo, type='implements')  "
   ]
  },
  {
   "cell_type": "markdown",
   "metadata": {},
   "source": [
    "then let's see the count results of the languages. First we should see what languages are there in the map:"
   ]
  },
  {
   "cell_type": "code",
   "execution_count": 29,
   "metadata": {},
   "outputs": [
    {
     "name": "stdout",
     "output_type": "stream",
     "text": [
      "Name: \n",
      "Type: DiGraph\n",
      "Number of nodes: 16766\n",
      "Number of edges: 41915\n",
      "Average in degree:   2.5000\n",
      "Average out degree:   2.5000 \n",
      "\n",
      "['Python(lang)', 'Lua(lang)', 'PHP(lang)', 'Java(lang)', 'Jupyter Notebook(lang)', 'R(lang)', 'Scala(lang)', 'CSS(lang)', 'JavaScript(lang)', 'Clojure(lang)', 'Emacs Lisp(lang)', 'Go(lang)', 'TeX(lang)', 'C(lang)', 'OCaml(lang)', 'Shell(lang)', 'Objective-C(lang)', 'TLA(lang)', '(lang)', 'Ruby(lang)', 'HTML(lang)', 'GAP(lang)', 'C#(lang)', 'TypeScript(lang)', 'Elm(lang)', 'C++(lang)', 'CoffeeScript(lang)', 'Swift(lang)', 'Arduino(lang)', 'Assembly(lang)', 'Terra(lang)', 'Elixir(lang)', 'Slash(lang)', 'Vim script(lang)', 'Perl(lang)', 'Cuda(lang)', 'Rust(lang)', 'Makefile(lang)', 'Matlab(lang)', 'Nim(lang)', 'Roff(lang)', 'Smarty(lang)', 'Pony(lang)', 'PureBasic(lang)', 'AppleScript(lang)', 'Scheme(lang)', 'Fortran(lang)', 'Julia(lang)', 'Haskell(lang)', 'XSLT(lang)', 'LiveScript(lang)', 'VimL(lang)', 'OpenEdge ABL(lang)', 'Groovy(lang)', 'Processing(lang)', 'Erlang(lang)', 'PowerShell(lang)', 'Visual Basic(lang)', 'Dart(lang)', 'HCL(lang)', 'Objective-C++(lang)', 'Batchfile(lang)', 'SystemVerilog(lang)', 'LLVM(lang)', 'Lean(lang)', 'SQLPL(lang)', 'NetLogo(lang)', 'Kotlin(lang)', 'Parrot(lang)', 'PLpgSQL(lang)', 'Racket(lang)', 'Puppet(lang)', 'XML(lang)', 'ApacheConf(lang)', 'Groff(lang)', 'Thrift(lang)', 'Frege(lang)', 'RAML(lang)', 'ActionScript(lang)', 'PLSQL(lang)', 'CMake(lang)', 'NSIS(lang)', 'Vue(lang)', 'WebAssembly(lang)', 'PigLatin(lang)', 'Hy(lang)', 'FORTRAN(lang)', 'DTrace(lang)', 'Common Lisp(lang)', 'Agda(lang)', 'Objective-J(lang)', 'Shen(lang)', 'CartoCSS(lang)', 'Coq(lang)', 'PureScript(lang)', 'Standard ML(lang)', 'Idris(lang)', 'FreeMarker(lang)', 'Vala(lang)', 'Eagle(lang)', 'VHDL(lang)', 'Verilog(lang)', 'F#(lang)', 'D(lang)', 'AutoHotkey(lang)', 'DIGITAL Command Language(lang)', 'Prolog(lang)', 'COBOL(lang)', 'Crystal(lang)', 'GCC Machine Description(lang)', 'Scilab(lang)', 'SAS(lang)', 'OpenSCAD(lang)', 'Pike(lang)', 'Gherkin(lang)', 'QML(lang)', 'GDScript(lang)', 'Nix(lang)', 'Bro(lang)', 'Modula-2(lang)', 'Forth(lang)', 'GLSL(lang)', 'Protocol Buffer(lang)', 'Web Ontology Language(lang)', 'Gosu(lang)', 'Dylan(lang)', 'Chapel(lang)', 'Factor(lang)', 'Perl 6(lang)', 'Red(lang)', 'Haxe(lang)', 'Smali(lang)', 'ASP(lang)', 'Metal(lang)', 'Perl6(lang)', 'Handlebars(lang)', 'Max(lang)', 'Awk(lang)']\n"
     ]
    }
   ],
   "source": [
    "print (nx.info(graph),'\\n')\n",
    "# see what languages are in the map\n",
    "print ([n \n",
    "       for n in graph.nodes() \n",
    "           if graph.node[n]['type'] == 'lang'])"
   ]
  },
  {
   "cell_type": "markdown",
   "metadata": {},
   "source": [
    "Now we can see the top 10 hottest languages users are using:"
   ]
  },
  {
   "cell_type": "code",
   "execution_count": 30,
   "metadata": {},
   "outputs": [
    {
     "name": "stdout",
     "output_type": "stream",
     "text": [
      "Most popular languages\n",
      "[('Python(lang)', 202), ('(lang)', 79), ('Jupyter Notebook(lang)', 77), ('JavaScript(lang)', 76), ('C++(lang)', 71), ('Java(lang)', 70), ('Scala(lang)', 68), ('HTML(lang)', 68), ('CSS(lang)', 67), ('C(lang)', 67)]\n"
     ]
    }
   ],
   "source": [
    "# find hottest language\n",
    "print (\"Most popular languages\")\n",
    "print (sorted([(n, graph.in_degree(n))\n",
    " for n in graph.nodes() \n",
    "     if graph.node[n]['type'] == 'lang'], key=itemgetter(1), reverse=True)[:10])"
   ]
  },
  {
   "cell_type": "markdown",
   "metadata": {},
   "source": [
    "And let us see some common languages usage:"
   ]
  },
  {
   "cell_type": "code",
   "execution_count": 31,
   "metadata": {},
   "outputs": [
    {
     "name": "stdout",
     "output_type": "stream",
     "text": [
      "Number of Python programmers: 202\n",
      "Number of JavaScript programmers: 76\n",
      "Number of R programmers: 49\n",
      "--------------------------------------------------------\n",
      "Number of C programmers: 67\n",
      "Number of C++ programmers: 71\n",
      "--------------------------------------------------------\n",
      "Number of CSS programmers: 67\n",
      "Number of HTML programmers: 68\n",
      "Number of PHP programmers: 44\n"
     ]
    }
   ],
   "source": [
    "# find how many people are using the certain kind of language\n",
    "python_programmers = [u \n",
    "                      for (u, l) in graph.in_edges('Python(lang)') \n",
    "                          if graph.node[u]['type'] == 'user']\n",
    "print (\"Number of Python programmers:\", len(python_programmers))\n",
    "\n",
    "javascript_programmers = [u for \n",
    "                          (u, l) in graph.in_edges('JavaScript(lang)') \n",
    "                              if graph.node[u]['type'] == 'user']\n",
    "print (\"Number of JavaScript programmers:\", len(javascript_programmers))\n",
    "\n",
    "R_programmers = [u for \n",
    "                          (u, l) in graph.in_edges('R(lang)') \n",
    "                              if graph.node[u]['type'] == 'user']\n",
    "print (\"Number of R programmers:\", len(R_programmers))\n",
    "print(\"--------------------------------------------------------\")\n",
    "\n",
    "C_programmers = [u for \n",
    "                        (u, l) in graph.in_edges('C(lang)') \n",
    "                              if graph.node[u]['type'] == 'user']\n",
    "print (\"Number of C programmers:\", len(C_programmers))\n",
    "\n",
    "Cplus_programmers = [u for \n",
    "                        (u, l) in graph.in_edges('C++(lang)') \n",
    "                              if graph.node[u]['type'] == 'user']\n",
    "print (\"Number of C++ programmers:\", len(Cplus_programmers))\n",
    "print(\"--------------------------------------------------------\")\n",
    "CSS_programmers = [u for \n",
    "                        (u, l) in graph.in_edges('CSS(lang)') \n",
    "                              if graph.node[u]['type'] == 'user']\n",
    "print (\"Number of CSS programmers:\", len(CSS_programmers))\n",
    "\n",
    "HTML_programmers = [u for \n",
    "                        (u, l) in graph.in_edges('HTML(lang)') \n",
    "                              if graph.node[u]['type'] == 'user']\n",
    "print (\"Number of HTML programmers:\", len(HTML_programmers))\n",
    "\n",
    "PHP_programmers = [u for \n",
    "                        (u, l) in graph.in_edges('PHP(lang)') \n",
    "                              if graph.node[u]['type'] == 'user']\n",
    "print (\"Number of PHP programmers:\", len(PHP_programmers))"
   ]
  },
  {
   "cell_type": "markdown",
   "metadata": {},
   "source": [
    "for the most languages people used: pyhton and js, we also analyzed the intersection of these two languages:"
   ]
  },
  {
   "cell_type": "code",
   "execution_count": 32,
   "metadata": {},
   "outputs": [
    {
     "name": "stdout",
     "output_type": "stream",
     "text": [
      "Number of programmers who use JavaScript and Python:\n",
      "76\n",
      "Number of programmers who use JavaScript but not Python:\n",
      "0\n"
     ]
    }
   ],
   "source": [
    "# people who use both languages\n",
    "print (\"Number of programmers who use JavaScript and Python:\")\n",
    "print (len(set(python_programmers).intersection(set(javascript_programmers))))\n",
    "\n",
    "# people who only use python but not js\n",
    "print (\"Number of programmers who use JavaScript but not Python:\")\n",
    "print (len(set(javascript_programmers).difference(set(python_programmers))))"
   ]
  },
  {
   "cell_type": "markdown",
   "metadata": {},
   "source": [
    "Wala! Now we can analyze the results! It can be seen from the results that JS and R, python and other scripting languages in github's preferred language list occupy the mainstream. Although there are only 10,000 items involved in the data we analyzed, it is like the old saying: “github is the world of front end”.\n",
    "\n",
    "What's more, Scala is also very hot from seeing our results, mainly because the \"source of the project\" is findspark.\n",
    "\n",
    "Another interesting phenomenon is that the programmers who use python definetly will use js, and those who use js  will not necessarily use python (80-74=6 individuals who is using js but not using python)."
   ]
  },
  {
   "cell_type": "code",
   "execution_count": null,
   "metadata": {},
   "outputs": [],
   "source": []
  }
 ],
 "metadata": {
  "kernelspec": {
   "display_name": "Python 3",
   "language": "python",
   "name": "python3"
  },
  "language_info": {
   "codemirror_mode": {
    "name": "ipython",
    "version": 3
   },
   "file_extension": ".py",
   "mimetype": "text/x-python",
   "name": "python",
   "nbconvert_exporter": "python",
   "pygments_lexer": "ipython3",
   "version": "3.6.4"
  }
 },
 "nbformat": 4,
 "nbformat_minor": 2
}
